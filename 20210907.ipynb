{
 "cells": [
  {
   "cell_type": "code",
   "execution_count": 31,
   "id": "ff15cc84",
   "metadata": {},
   "outputs": [
    {
     "data": {
      "text/latex": [
       "$\\displaystyle \\left(- 29 a + b + 9\\right)^{2} + \\left(- 20 a + b - 1\\right)^{2} + \\left(- 13 a + b - 4\\right)^{2}$"
      ],
      "text/plain": [
       "(-29*a + b + 9)**2 + (-20*a + b - 1)**2 + (-13*a + b - 4)**2"
      ]
     },
     "execution_count": 31,
     "metadata": {},
     "output_type": "execute_result"
    }
   ],
   "source": [
    "import sympy as sym\n",
    "import matplotlib.pyplot as plt\n",
    "\n",
    "x1,x2,x3,y1,y2,y3,a,b,x,y=sym.symbols('x1,x2,x3,y1,y2,y3,a,b,x,y')\n",
    "wc1=(a*x1+b-y1)**2\n",
    "wc2=(a*x2+b-y2)**2\n",
    "wc3=(a*x3+b-y3)**2\n",
    "\n",
    "wc = wc1+wc2+wc3\n",
    "wc= wc.subs(x1,-29).subs(x2,-20).subs(x3,-13)\n",
    "wc= wc.subs(y1,-9).subs(y2,1).subs(y3,4)\n",
    "wc\n",
    "\n",
    "\n",
    "\n",
    "\n",
    "\n",
    "\n"
   ]
  },
  {
   "cell_type": "code",
   "execution_count": 32,
   "id": "053de301",
   "metadata": {},
   "outputs": [
    {
     "data": {
      "text/latex": [
       "$\\displaystyle 1410 a^{2} + a \\left(- 124 b - 378\\right) + 3 b^{2} + 8 b + 98$"
      ],
      "text/plain": [
       "1410*a**2 + a*(-124*b - 378) + 3*b**2 + 8*b + 98"
      ]
     },
     "execution_count": 32,
     "metadata": {},
     "output_type": "execute_result"
    }
   ],
   "source": [
    "\n",
    "wc=wc.expand()\n",
    "wc\n",
    "wc.collect(a)\n",
    "\n"
   ]
  },
  {
   "cell_type": "code",
   "execution_count": 33,
   "id": "d3d5aca4",
   "metadata": {},
   "outputs": [
    {
     "data": {
      "text/latex": [
       "$\\displaystyle 1410 a^{2} - 378 a + 3 b^{2} + b \\left(8 - 124 a\\right) + 98$"
      ],
      "text/plain": [
       "1410*a**2 - 378*a + 3*b**2 + b*(8 - 124*a) + 98"
      ]
     },
     "execution_count": 33,
     "metadata": {},
     "output_type": "execute_result"
    }
   ],
   "source": [
    "#b=-(14*a-22)/(2*3)\n",
    "eq1=sym.Eq(a,-(-124*𝑏-378)/(2*1410))\n",
    "wc.collect(b)\n"
   ]
  },
  {
   "cell_type": "code",
   "execution_count": 36,
   "id": "03007cf3",
   "metadata": {},
   "outputs": [
    {
     "data": {
      "text/plain": [
       "{a: 319/386, b: 3039/193}"
      ]
     },
     "execution_count": 36,
     "metadata": {},
     "output_type": "execute_result"
    }
   ],
   "source": [
    "eq2=sym.Eq(b,-(8-124*a)/(2*3))\n",
    "sym.solve([eq1,eq2],[a,b])\n"
   ]
  },
  {
   "cell_type": "code",
   "execution_count": 37,
   "id": "9854ba69",
   "metadata": {},
   "outputs": [
    {
     "data": {
      "image/png": "[encoded data removed]",
      "text/plain": [
       "<Figure size 432x288 with 1 Axes>"
      ]
     },
     "metadata": {
      "needs_background": "light"
     },
     "output_type": "display_data"
    }
   ],
   "source": [
    "\n",
    "a=319/386.0\n",
    "b=3039/193.0\n",
    "\n",
    "plt.plot(-29,-9,'o')\n",
    "#plt.text(-29,-20,'x1,y1')\n",
    "\n",
    "plt.plot(-20,1,'o')\n",
    "#plt.text(-13,-9,'x2,y3')\n",
    "\n",
    "plt.plot(-13,4,'o')\n",
    "#plt.text(1,4,'x2,y3')\n",
    "\n",
    "plt.plot([-29,-20,-13],[a*-29+b,a*-20+b,a*-13+b],marker='o')\n",
    "\n",
    "plt.show()"
   ]
  },
  {
   "cell_type": "code",
   "execution_count": null,
   "id": "d8fab415",
   "metadata": {},
   "outputs": [],
   "source": []
  }
 ],
 "metadata": {
  "kernelspec": {
   "display_name": "Python 3",
   "language": "python",
   "name": "python3"
  },
  "language_info": {
   "codemirror_mode": {
    "name": "ipython",
    "version": 3
   },
   "file_extension": ".py",
   "mimetype": "text/x-python",
   "name": "python",
   "nbconvert_exporter": "python",
   "pygments_lexer": "ipython3",
   "version": "3.7.10"
  }
 },
 "nbformat": 4,
 "nbformat_minor": 5
}
